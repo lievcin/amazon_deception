{
 "cells": [
  {
   "cell_type": "code",
   "execution_count": 1,
   "metadata": {},
   "outputs": [],
   "source": [
    "import csv\n",
    "from sklearn.svm import LinearSVC\n",
    "from nltk.classify import SklearnClassifier\n",
    "from random import shuffle\n",
    "from sklearn.pipeline import Pipeline"
   ]
  },
  {
   "cell_type": "code",
   "execution_count": 2,
   "metadata": {},
   "outputs": [],
   "source": [
    "# load data from a file and append it to the rawData\n",
    "def loadData(path, Text=None):\n",
    "    with open(path) as f:\n",
    "        reader = csv.reader(f, delimiter='\\t')\n",
    "        next(reader, None)  # skip the headers        \n",
    "        for line in reader:\n",
    "            (Id, Text, Label, Rating, Verified) = parseReview(line)\n",
    "            rawData.append((Id, Text, Label, Rating, Verified))"
   ]
  },
  {
   "cell_type": "code",
   "execution_count": 3,
   "metadata": {},
   "outputs": [],
   "source": [
    "# QUESTION 1\n",
    "def parse_label(label):\n",
    "    if label == '__label2__':\n",
    "        return 'real'\n",
    "    else:\n",
    "        return 'fake'    \n",
    "\n",
    "def parse_verification(label):\n",
    "    if label == 'N':\n",
    "        return 0\n",
    "    else:\n",
    "        return 1      \n",
    "\n",
    "# Convert line from input file into an id/text/label tuple\n",
    "def parseReview(reviewLine):\n",
    "    # Should return a triple of an integer, a string containing the review, and a string indicating the label\n",
    "    return (reviewLine[0], \\\n",
    "            reviewLine[8] + ' ' + reviewLine[7], \\\n",
    "            parse_label(reviewLine[1]), \\\n",
    "            reviewLine[2], \\\n",
    "            parse_verification(reviewLine[3]))\n",
    "        "
   ]
  },
  {
   "cell_type": "code",
   "execution_count": 4,
   "metadata": {},
   "outputs": [],
   "source": [
    "from __future__ import unicode_literals\n",
    "\n",
    "import re, string, nltk\n",
    "from nltk.corpus.reader.wordnet import NOUN\n",
    "from nltk.corpus import wordnet\n",
    "from nltk import word_tokenize\n",
    "from nltk.corpus import stopwords\n",
    "from nltk.stem import WordNetLemmatizer\n",
    "\n",
    "stop = set(stopwords.words('english'))\n",
    "s = nltk.stem.SnowballStemmer('english')\n",
    "l = WordNetLemmatizer()\n",
    "translator=str.maketrans('','',string.punctuation)\n",
    "\n",
    "# Input: a string of one review\n",
    "def preProcess(text):  \n",
    "    text = re.sub(r\"(\\w)([.,;:!-?'\\\"”\\)])\", r\"\\1 \\2\", text)\n",
    "    text = re.sub(r\"([.,;:!-?'\\\"“\\(])(\\w)\", r\"\\1 \\2\", text)\n",
    "    text = re.sub(r\"<[^>]*>\", \"\", text)    \n",
    "    text = re.sub(r'[^a-zA-Z0-9\\s]', '', text)\n",
    "    text = text.translate(translator)\n",
    "    text = text.lower()    \n",
    "    tokens = word_tokenize(text)\n",
    "    tokens = [l.lemmatize(t) for t in tokens]\n",
    "#     tokens = [s.stem(t) for t in tokens]    \n",
    "    tokens = [t for t in tokens if t not in stop]\n",
    "    return tokens"
   ]
  },
  {
   "cell_type": "code",
   "execution_count": 5,
   "metadata": {},
   "outputs": [],
   "source": [
    "# QUESTION 2\n",
    "featureDict = {} # A global dictionary of features\n",
    "\n",
    "def toFeatureVector(tokens, rating, verified):\n",
    "    # Should return a dictionary containing features as keys, and weights as values\n",
    "    v = {}\n",
    "    for t in tokens:\n",
    "        try:\n",
    "            featureDict[t] += 1\n",
    "        except KeyError:            \n",
    "            featureDict[t] = 1\n",
    "        try:\n",
    "            v[t] += (1.0/len(tokens))\n",
    "        except KeyError:\n",
    "            v[t] = (1.0/len(tokens))\n",
    "    #Adding additional features to the vectors\n",
    "    v['Rating'] = rating\n",
    "    v['Verified'] = verified    \n",
    "    return v"
   ]
  },
  {
   "cell_type": "code",
   "execution_count": 6,
   "metadata": {},
   "outputs": [],
   "source": [
    "# TRAINING AND VALIDATING OUR CLASSIFIER\n",
    "def trainClassifier(trainData):\n",
    "    print(\"Training Classifier...\")\n",
    "    pipeline =  Pipeline([('svc', LinearSVC())])\n",
    "    return SklearnClassifier(pipeline).train(trainData)"
   ]
  },
  {
   "cell_type": "code",
   "execution_count": 7,
   "metadata": {},
   "outputs": [],
   "source": [
    "# QUESTION 3\n",
    "\n",
    "def crossValidate(dataset, folds):\n",
    "    shuffle(dataset)\n",
    "    predictions = []\n",
    "    ground_truth = []\n",
    "    foldSize = int(len(dataset)/folds)\n",
    "    #preProcess and tokenize once!\n",
    "    dataset = [(t[0], preProcess(t[1]), t[2], t[3], t[4]) for t in dataset]\n",
    "    dataset = [(t[0], toFeatureVector(t[1], t[3], t[4]), t[2]) for t in dataset]    \n",
    "    \n",
    "    for i in range(0,len(dataset), foldSize):\n",
    "        trainFolds = dataset[:i] + dataset[i+foldSize:]        \n",
    "        validationFold = dataset[i: i+foldSize]\n",
    "        \n",
    "        training_set = [(t[1], t[2]) for t in trainFolds]\n",
    "        classifier = trainClassifier(training_set)\n",
    "        validation_set = [(t[0], t[1]) for t in validationFold]\n",
    "        predictions.append(predictLabels(validationFold, classifier))\n",
    "        ground_truth.append([ l[2] for l in validationFold])\n",
    "        \n",
    "    return ground_truth, predictions"
   ]
  },
  {
   "cell_type": "code",
   "execution_count": 8,
   "metadata": {},
   "outputs": [],
   "source": [
    "# PREDICTING LABELS GIVEN A CLASSIFIER\n",
    "\n",
    "def predictLabels(reviewSamples, classifier):\n",
    "    return classifier.classify_many(map(lambda t: t[1], reviewSamples))\n",
    "\n",
    "def predictLabel(reviewSample, classifier):\n",
    "    return classifier.classify(toFeatureVector(preProcess(reviewSample)))"
   ]
  },
  {
   "cell_type": "code",
   "execution_count": 9,
   "metadata": {},
   "outputs": [],
   "source": [
    "def flatten(lst):\n",
    "    for el in lst:\n",
    "        if isinstance(el, list):\n",
    "            yield from el\n",
    "        else:\n",
    "            yield el"
   ]
  },
  {
   "cell_type": "code",
   "execution_count": 10,
   "metadata": {},
   "outputs": [
    {
     "name": "stdout",
     "output_type": "stream",
     "text": [
      "Now 0 rawData, 0 trainData\n",
      "Preparing the dataset...\n",
      "Now 21000 rawData, 0 trainData\n",
      "Preparing the dataset...\n",
      "Training Classifier...\n",
      "Training Classifier...\n",
      "Training Classifier...\n",
      "Training Classifier...\n",
      "Training Classifier...\n",
      "Training Classifier...\n",
      "Training Classifier...\n",
      "Training Classifier...\n",
      "Training Classifier...\n",
      "Training Classifier...\n",
      "Now 21000 rawData, 0 trainData\n",
      "Training Samples: \n",
      "0\n",
      "Features: \n",
      "29990\n",
      "Accuracy: 79.0\n",
      "             precision    recall  f1-score   support\n",
      "\n",
      "       fake       0.81      0.75      0.78     10500\n",
      "       real       0.77      0.83      0.80     10500\n",
      "\n",
      "avg / total       0.79      0.79      0.79     21000\n",
      "\n",
      "--- 44.12338995933533 seconds ---\n"
     ]
    }
   ],
   "source": [
    "# MAIN\n",
    "import time\n",
    "start_time = time.time()\n",
    "\n",
    "from sklearn import metrics\n",
    "from sklearn.metrics import accuracy_score\n",
    "from sklearn.metrics import precision_recall_fscore_support\n",
    "\n",
    "# loading reviews\n",
    "rawData = []          # the filtered data from the dataset file (should be 21000 samples)\n",
    "trainData = []        # the training data as a percentage of the total dataset (currently 80%, or 16800 samples)\n",
    "\n",
    "# the output classes\n",
    "fakeLabel = 'fake'\n",
    "realLabel = 'real'\n",
    "\n",
    "# references to the data files\n",
    "reviewPath = 'amazon_reviews.txt'\n",
    "\n",
    "## Do the actual stuff\n",
    "# We parse the dataset and put it in a raw data list\n",
    "print(\"Now %d rawData, %d trainData\" % (len(rawData), len(trainData)),\n",
    "      \"Preparing the dataset...\",sep='\\n')\n",
    "loadData(reviewPath) \n",
    "print(\"Now %d rawData, %d trainData\" % (len(rawData), len(trainData)),\n",
    "      \"Preparing the dataset...\",sep='\\n')\n",
    "\n",
    "ground_truth, predictions = crossValidate(rawData, 10)\n",
    "ground_truth = list(flatten(ground_truth))\n",
    "predictions = list(flatten(predictions))\n",
    "\n",
    "# We print the number of training samples and the number of features\n",
    "print(\"Now %d rawData, %d trainData\" % (len(rawData), len(trainData)),\n",
    "      \"Training Samples: \", len(trainData), \"Features: \", len(featureDict), sep='\\n')\n",
    "print('Accuracy: ' + str(round(100*accuracy_score(ground_truth, predictions), 2)))\n",
    "print(metrics.classification_report(ground_truth, predictions))\n",
    "\n",
    "print(\"--- %s seconds ---\" % (time.time() - start_time))"
   ]
  },
  {
   "cell_type": "code",
   "execution_count": 11,
   "metadata": {},
   "outputs": [],
   "source": [
    "#Data Exploration\n",
    "import pandas as pd\n",
    "import matplotlib.pyplot as plt\n",
    "import numpy as np\n",
    "from scipy.stats import norm\n",
    "from sklearn.preprocessing import StandardScaler\n",
    "from scipy import stats\n",
    "%matplotlib inline"
   ]
  },
  {
   "cell_type": "code",
   "execution_count": 12,
   "metadata": {},
   "outputs": [],
   "source": [
    "#Let's add some more columns and make some a bit more readable\n",
    "names = ['doc_id', 'label', 'rating', 'verified_purchase', \\\n",
    "         'pr_category', 'pr_id', 'pr_title', 'review_title', 'review_text']\n",
    "data = pd.read_csv('amazon_reviews.txt', skiprows=[0], names=names, sep='\\t')\n",
    "data['verified_purchase'] = data['verified_purchase'].apply(lambda x: 1 if x=='Y' else 0)\n",
    "data['label'] = data['label'].apply(lambda x: 'real' if x=='__label2__' else 'fake')\n",
    "data['review_text_length'] = data.apply(lambda row: len(row.review_text), axis=1)\n",
    "data['review_title_length'] = data.apply(lambda row: len(row.review_title), axis=1)"
   ]
  },
  {
   "cell_type": "code",
   "execution_count": 13,
   "metadata": {},
   "outputs": [
    {
     "name": "stdout",
     "output_type": "stream",
     "text": [
      "REAL REVIEWS\n"
     ]
    },
    {
     "data": {
      "image/png": "[encoded data removed]",
      "text/plain": [
       "<matplotlib.figure.Figure at 0x11bdf2b70>"
      ]
     },
     "metadata": {},
     "output_type": "display_data"
    },
    {
     "name": "stdout",
     "output_type": "stream",
     "text": [
      "FAKE REVIEWS\n"
     ]
    },
    {
     "data": {
      "image/png": "[encoded data removed]",
      "text/plain": [
       "<matplotlib.figure.Figure at 0x11bf146a0>"
      ]
     },
     "metadata": {},
     "output_type": "display_data"
    }
   ],
   "source": [
    "#To start the real reviews, let's look at some some statistics\n",
    "real_data = data[data['label']== 'real'] \n",
    "fake_data = data[data['label']== 'fake'] \n",
    "plt.figure(figsize=(35,35))\n",
    "\n",
    "print('REAL REVIEWS')\n",
    "# print('Rating stats:')\n",
    "# print(data['rating'].describe())\n",
    "plt.subplot(8,8,1)\n",
    "plt.title('Rating')\n",
    "real_data['rating'].plot.hist(alpha=0.5)\n",
    "\n",
    "\n",
    "# print('Verification stats:')\n",
    "# print(data['verified_purchase'].describe())\n",
    "plt.subplot(8,8,2)\n",
    "plt.title('Verified Purchase')\n",
    "real_data['verified_purchase'].plot.hist(alpha=0.5)\n",
    "\n",
    "\n",
    "# print('Title length stats:')\n",
    "# print(data['review_title_length'].describe())\n",
    "plt.subplot(8,8,3)\n",
    "plt.title('Review Title Length')\n",
    "real_data['review_title_length'].plot.hist(alpha=0.5)\n",
    "\n",
    "\n",
    "# print('Review length stats:')\n",
    "# print(data['review_text_length'].describe())\n",
    "plt.subplot(8,8,4)\n",
    "plt.title('Review Text Length')\n",
    "real_data['review_text_length'].plot.hist(alpha=0.5)\n",
    "\n",
    "plt.show()\n",
    "\n",
    "plt.figure(figsize=(35,35))\n",
    "print('FAKE REVIEWS')\n",
    "\n",
    "# print('Rating stats:')\n",
    "# print(data['rating'].describe())\n",
    "plt.subplot(8,8,1)\n",
    "plt.title('Rating')\n",
    "fake_data['rating'].plot.hist(alpha=0.5)\n",
    "\n",
    "\n",
    "# print('Verification stats:')\n",
    "# print(data['verified_purchase'].describe())\n",
    "plt.subplot(8,8,2)\n",
    "plt.title('Verified Purchase')\n",
    "fake_data['verified_purchase'].plot.hist(alpha=0.5)\n",
    "\n",
    "\n",
    "# print('Title length stats:')\n",
    "# print(data['review_title_length'].describe())\n",
    "plt.subplot(8,8,3)\n",
    "plt.title('Review Title Length')\n",
    "fake_data['review_title_length'].plot.hist(alpha=0.5)\n",
    "\n",
    "\n",
    "# print('Review length stats:')\n",
    "# print(data['review_text_length'].describe())\n",
    "plt.subplot(8,8,4)\n",
    "plt.title('Review Text Length')\n",
    "fake_data['review_text_length'].plot.hist(alpha=0.5)\n",
    "\n",
    "plt.show()"
   ]
  },
  {
   "cell_type": "code",
   "execution_count": 14,
   "metadata": {},
   "outputs": [],
   "source": [
    "#And now to get some stats on the tokens of the reviews\n",
    "import nltk\n",
    "def averageLen(lst):\n",
    "    lengths = [len(i) for i in lst]\n",
    "    return 0 if len(lengths) == 0 else (float(sum(lengths)) / len(lengths)) \n",
    "\n",
    "stop_words = set(stopwords.words('english'))\n",
    "\n",
    "#Tokenising the review inthe dataframe, getting the count of tokens and stopwords\n",
    "data['tokenized_review'] = data.apply(lambda row: re.sub(r\"(\\w)([.,;:!-?'\\\"”\\)])\", r\"\\1 \\2\", row['review_text']), axis=1)\n",
    "data['tokenized_review'] = data.apply(lambda row: re.sub(r\"([.,;:!-?'\\\"“\\(])(\\w)\", r\"\\1 \\2\", row['review_text']), axis=1)\n",
    "data['tokenized_review'] = data.apply(lambda row: re.sub(r\"<[^>]*>\", \"\", row['review_text']), axis=1)\n",
    "data['tokenized_review'] = data.apply(lambda row: nltk.word_tokenize(row['review_text'].lower()), axis=1)\n",
    "data['tokenized_review'] = data.apply(lambda row: [t for t in row['tokenized_review'] if t.isalpha()], axis=1)\n",
    "# data['tokenized_review'] = data.apply(lambda row: [t for t in row['tokenized_review'] if t not in stopwords.words('english')], axis=1)\n",
    "data['tokenized_review'] = data.apply(lambda row: [t for t in row['tokenized_review'] if t not in stop_words], axis=1)\n",
    "# data['tokenized_review_stop'] = data.apply(lambda row: [t for t in row['tokenized_review'] if t in stopwords.words('english')], axis=1)\n",
    "data['num_tokens'] = data.apply(lambda row: len(row['tokenized_review']), axis=1)\n",
    "data['avg_len_tokens'] = data.apply(lambda row: averageLen(row['tokenized_review']), axis=1)\n",
    "# data['num_stopwords'] = data.apply(lambda row: len(row['tokenized_review_stop']), axis=1)"
   ]
  },
  {
   "cell_type": "code",
   "execution_count": 15,
   "metadata": {},
   "outputs": [
    {
     "name": "stdout",
     "output_type": "stream",
     "text": [
      "REAL REVIEWS\n"
     ]
    },
    {
     "data": {
      "image/png": "[encoded data removed]",
      "text/plain": [
       "<matplotlib.figure.Figure at 0x11be03f28>"
      ]
     },
     "metadata": {},
     "output_type": "display_data"
    },
    {
     "name": "stdout",
     "output_type": "stream",
     "text": [
      "FAKE REVIEWS\n"
     ]
    },
    {
     "data": {
      "image/png": "[encoded data removed]",
      "text/plain": [
       "<matplotlib.figure.Figure at 0x126ca2320>"
      ]
     },
     "metadata": {},
     "output_type": "display_data"
    },
    {
     "name": "stdout",
     "output_type": "stream",
     "text": [
      "Real Data Avg Token Length: 5.54\n",
      "Fake Data Avg Token Length: 5.59\n",
      "Real Data Median Token Length: 5.5\n",
      "Fake Data Median Token Length: 5.55\n",
      "Real Data StDev Token Length: 0.55\n",
      "Fake Data StDev Token Length: 0.56\n"
     ]
    }
   ],
   "source": [
    "real_data = data[data['label']== 'real'] \n",
    "fake_data = data[data['label']== 'fake'] \n",
    "\n",
    "plt.figure(figsize=(35,35))\n",
    "print('REAL REVIEWS')\n",
    "plt.subplot(8,8,1)\n",
    "plt.title('Total Tokens')\n",
    "real_data['num_tokens'].plot.hist(alpha=0.5, bins=100)\n",
    "\n",
    "\n",
    "# print('Verification stats:')\n",
    "# print(data['verified_purchase'].describe())\n",
    "plt.subplot(8,8,2)\n",
    "plt.title('Avg Length Tokens')\n",
    "real_data['avg_len_tokens'].plot.hist(alpha=0.5, bins=100)\n",
    "\n",
    "plt.show()\n",
    "\n",
    "plt.figure(figsize=(35,35))\n",
    "print('FAKE REVIEWS')\n",
    "plt.subplot(8,8,1)\n",
    "plt.title('Total Tokens')\n",
    "fake_data['num_tokens'].plot.hist(alpha=0.5, bins=100)\n",
    "\n",
    "\n",
    "# print('Verification stats:')\n",
    "# print(data['verified_purchase'].describe())\n",
    "plt.subplot(8,8,2)\n",
    "plt.title('Avg Length Tokens')\n",
    "fake_data['avg_len_tokens'].plot.hist(alpha=0.5, bins=100)\n",
    "\n",
    "plt.show()\n",
    "\n",
    "print('Real Data Avg Token Length: ' + str(round(real_data['avg_len_tokens'].mean(axis=0), 2)))\n",
    "print('Fake Data Avg Token Length: ' + str(round(fake_data['avg_len_tokens'].mean(axis=0), 2)))\n",
    "\n",
    "print('Real Data Median Token Length: ' + str(round(real_data['avg_len_tokens'].median(axis=0), 2)))\n",
    "print('Fake Data Median Token Length: ' + str(round(fake_data['avg_len_tokens'].median(axis=0), 2)))\n",
    "\n",
    "print('Real Data StDev Token Length: ' + str(round(real_data['avg_len_tokens'].std(axis=0), 2)))\n",
    "print('Fake Data StDev Token Length: ' + str(round(fake_data['avg_len_tokens'].std(axis=0), 2)))"
   ]
  },
  {
   "cell_type": "code",
   "execution_count": 16,
   "metadata": {},
   "outputs": [
    {
     "name": "stdout",
     "output_type": "stream",
     "text": [
      "REAL REVIEWS:\n",
      "30 br 10564\n",
      "76 one 3664\n",
      "137 great 3154\n",
      "143 like 3043\n",
      "112 would 2702\n",
      "54 good 2596\n",
      "187 use 2344\n",
      "20 well 2214\n",
      "50 get 1959\n",
      "86 really 1711\n",
      "101 time 1711\n",
      "125 love 1642\n",
      "14 product 1579\n",
      "317 also 1573\n",
      "68 little 1544\n",
      "249 much 1480\n",
      "13 price 1370\n",
      "164 quality 1295\n",
      "291 easy 1294\n",
      "284 bought 1276\n",
      "235 even 1249\n",
      "251 nice 1240\n",
      "108 used 1186\n",
      "450 work 1155\n",
      "168 back 1128\n",
      "FAKE REVIEWS:\n",
      "16 br 4993\n",
      "81 great 3376\n",
      "75 one 2865\n",
      "27 like 2597\n",
      "203 good 2571\n",
      "142 really 2503\n",
      "6 product 2105\n",
      "98 would 2012\n",
      "93 use 1990\n",
      "37 quality 1836\n",
      "52 love 1834\n",
      "61 well 1744\n",
      "202 get 1640\n",
      "214 time 1542\n",
      "80 also 1373\n",
      "268 price 1329\n",
      "189 easy 1312\n",
      "55 much 1298\n",
      "249 bought 1192\n",
      "539 got 1133\n",
      "104 recommend 1086\n",
      "153 nice 1061\n",
      "163 even 1058\n",
      "366 buy 950\n",
      "45 works 947\n"
     ]
    }
   ],
   "source": [
    "import gensim, collections, itertools\n",
    "from gensim.corpora.dictionary import Dictionary\n",
    "from gensim.models.tfidfmodel import TfidfModel\n",
    "\n",
    "real_data = data[data['label']== 'real'] \n",
    "fake_data = data[data['label']== 'fake'] \n",
    "\n",
    "print('REAL REVIEWS:')\n",
    "real_data_corpus = list(real_data['tokenized_review'])\n",
    "dictionary = Dictionary(real_data_corpus)\n",
    "corpus = [dictionary.doc2bow(review) for review in real_data_corpus]\n",
    "\n",
    "# Create the defaultdict: total_word_count\n",
    "total_word_count = collections.defaultdict(int)\n",
    "\n",
    "for word_id, word_count in itertools.chain.from_iterable(corpus):\n",
    "    total_word_count[word_id] += word_count\n",
    "\n",
    "# Create a sorted list from the defaultdict: sorted_word_count\n",
    "sorted_word_count = sorted(total_word_count.items(), key=lambda w: w[1], reverse=True) \n",
    "\n",
    "# Print the top 25 words across all documents alongside the count\n",
    "for word_id, word_count in sorted_word_count[:25]:\n",
    "    print(word_id, dictionary.get(word_id), word_count)\n",
    "\n",
    "print('FAKE REVIEWS:')\n",
    "fake_data_corpus = list(fake_data['tokenized_review'])\n",
    "dictionary = Dictionary(fake_data_corpus)\n",
    "corpus = [dictionary.doc2bow(review) for review in fake_data_corpus]\n",
    "\n",
    "# Create the defaultdict: total_word_count\n",
    "total_word_count = collections.defaultdict(int)\n",
    "\n",
    "for word_id, word_count in itertools.chain.from_iterable(corpus):\n",
    "    total_word_count[word_id] += word_count\n",
    "\n",
    "# Create a sorted list from the defaultdict: sorted_word_count\n",
    "sorted_word_count = sorted(total_word_count.items(), key=lambda w: w[1], reverse=True) \n",
    "\n",
    "# Print the top 25 words across all documents alongside the count\n",
    "for word_id, word_count in sorted_word_count[:25]:\n",
    "    print(word_id, dictionary.get(word_id), word_count)"
   ]
  },
  {
   "cell_type": "code",
   "execution_count": 27,
   "metadata": {
    "scrolled": false
   },
   "outputs": [],
   "source": [
    "#Looking for the Flesch-Kincaid Readability measure across our pipulation\n",
    "from nltk.tokenize import sent_tokenize, word_tokenize\n",
    "import pyphen\n",
    "dic = pyphen.Pyphen(lang='en')\n",
    "#textstat for FK\n",
    "\n",
    "data['tokenized_review'] = data.apply(lambda row: re.sub(r\"(\\w)([.,;:!-?'\\\"”\\)])\", r\"\\1 \\2\", row['review_text']), axis=1)\n",
    "data['tokenized_review'] = data.apply(lambda row: re.sub(r\"([.,;:!-?'\\\"“\\(])(\\w)\", r\"\\1 \\2\", row['tokenized_review']), axis=1)\n",
    "data['tokenized_review'] = data.apply(lambda row: re.sub(r\"<[^>]*>\", \"\", row['tokenized_review']), axis=1)\n",
    "data['tokenized_review'] = data.apply(lambda row: nltk.word_tokenize(row['tokenized_review'].lower()), axis=1)\n",
    "data['tokenized_review_string'] = data['tokenized_review'].apply(' '.join)\n",
    "data['tokens'] = data.apply(lambda row: [t for t in row['tokenized_review'] if t.isalpha()], axis=1)\n",
    "data['tokens'] = data.apply(lambda row: [t for t in row['tokens'] if t not in stop_words], axis=1)\n",
    "data['stopwords'] = data.apply(lambda row: [t for t in row['tokenized_review'] if t.isalpha()], axis=1)\n",
    "data['stopwords'] = data.apply(lambda row: [t for t in row['tokenized_review'] if t in stopwords.words('english')], axis=1)\n",
    "data['num_tokens'] = data.apply(lambda row: len(row['tokens']), axis=1)\n",
    "data['avg_len_tokens'] = data.apply(lambda row: averageLen(row['tokens']), axis=1)\n",
    "data['num_stopwords'] = data.apply(lambda row: len(row['stopwords']), axis=1)"
   ]
  },
  {
   "cell_type": "code",
   "execution_count": 26,
   "metadata": {},
   "outputs": [
    {
     "name": "stdout",
     "output_type": "stream",
     "text": [
      "REAL vs FAKE F-K Score\n"
     ]
    },
    {
     "data": {
      "image/png": "[encoded data removed]",
      "text/plain": [
       "<matplotlib.figure.Figure at 0x13043c8d0>"
      ]
     },
     "metadata": {},
     "output_type": "display_data"
    },
    {
     "name": "stdout",
     "output_type": "stream",
     "text": [
      "Real Data Avg FK score: 80.84\n",
      "Fake Data Avg FK score: 80.84\n",
      "Real Data Median FK score: 83.27\n",
      "Fake Data Median FK score: 83.35\n",
      "Real Data StDev FK score: 16.75\n",
      "Fake Data StDev FK score: 15.4\n"
     ]
    }
   ],
   "source": [
    "#Looking for the Flesch-Kincaid Readability measure across our pipulation\n",
    "data['word_count'] = data.apply(lambda row: len(row['tokenized_review']), axis=1)\n",
    "data['sent_count'] = data.apply(lambda row: len(sent_tokenize(row['review_text'])), axis=1)\n",
    "data['syll_count'] = data.apply(lambda row: len(list(flatten([dic.inserted(text).split('-') for text in row['tokenized_review']]))), axis=1)\n",
    "data['flesch_kincaid'] = data.apply(lambda row: 206.835 - 1.015*row['word_count']/row['sent_count'] - 84.6*row['syll_count']/row['word_count'], axis=1)\n",
    "\n",
    "real_data = data[data['label']== 'real'] \n",
    "fake_data = data[data['label']== 'fake'] \n",
    "\n",
    "fig, axes = plt.subplots(1, 2)\n",
    "fig.set_size_inches(20,8)\n",
    "\n",
    "print('REAL vs FAKE F-K Score')\n",
    "plt.title('Real Reviews')\n",
    "real_data.hist('flesch_kincaid', bins=100, ax=axes[0])\n",
    "\n",
    "plt.title('Fake Reviews')\n",
    "fake_data.hist('flesch_kincaid', bins=100, ax=axes[1])\n",
    "\n",
    "plt.show()\n",
    "\n",
    "print('Real Data Avg FK score: ' + str(round(real_data['flesch_kincaid'].mean(axis=0), 2)))\n",
    "print('Fake Data Avg FK score: ' + str(round(fake_data['flesch_kincaid'].mean(axis=0), 2)))\n",
    "\n",
    "print('Real Data Median FK score: ' + str(round(real_data['flesch_kincaid'].median(axis=0), 2)))\n",
    "print('Fake Data Median FK score: ' + str(round(fake_data['flesch_kincaid'].median(axis=0), 2)))\n",
    "\n",
    "print('Real Data StDev FK score: ' + str(round(real_data['flesch_kincaid'].std(axis=0), 2)))\n",
    "print('Fake Data StDev FK score: ' + str(round(fake_data['flesch_kincaid'].std(axis=0), 2)))"
   ]
  },
  {
   "cell_type": "code",
   "execution_count": 29,
   "metadata": {},
   "outputs": [
    {
     "name": "stdout",
     "output_type": "stream",
     "text": [
      "REAL vs FAKE number of stopwords\n",
      "Real Data Avg stopwords: 40.91\n",
      "Fake Data Avg stopwords: 31.49\n",
      "Real Data Median stopwords: 24.0\n",
      "Fake Data Median stopwords: 24.0\n",
      "Real Data StDev stopwords: 54.08\n",
      "Fake Data StDev stopwords: 30.23\n"
     ]
    },
    {
     "data": {
      "image/png": "[encoded data removed]",
      "text/plain": [
       "<matplotlib.figure.Figure at 0x137179fd0>"
      ]
     },
     "metadata": {},
     "output_type": "display_data"
    }
   ],
   "source": [
    "#What about stopwords?\n",
    "real_data = data[data['label']== 'real'] \n",
    "fake_data = data[data['label']== 'fake'] \n",
    "\n",
    "\n",
    "fig, axes = plt.subplots(1, 2)\n",
    "fig.set_size_inches(20,8)\n",
    "\n",
    "print('REAL vs FAKE number of stopwords')\n",
    "plt.title('Real Reviews')\n",
    "real_data.hist('num_stopwords', bins=100, ax=axes[0])\n",
    "\n",
    "plt.title('Fake Reviews')\n",
    "fake_data.hist('num_stopwords', bins=100, ax=axes[1])\n",
    "\n",
    "print('Real Data Avg stopwords: ' + str(round(real_data['num_stopwords'].mean(axis=0), 2)))\n",
    "print('Fake Data Avg stopwords: ' + str(round(fake_data['num_stopwords'].mean(axis=0), 2)))\n",
    "\n",
    "print('Real Data Median stopwords: ' + str(round(real_data['num_stopwords'].median(axis=0), 2)))\n",
    "print('Fake Data Median stopwords: ' + str(round(fake_data['num_stopwords'].median(axis=0), 2)))\n",
    "\n",
    "print('Real Data StDev stopwords: ' + str(round(real_data['num_stopwords'].std(axis=0), 2)))\n",
    "print('Fake Data StDev stopwords: ' + str(round(fake_data['num_stopwords'].std(axis=0), 2)))"
   ]
  },
  {
   "cell_type": "code",
   "execution_count": 38,
   "metadata": {},
   "outputs": [],
   "source": []
  }
 ],
 "metadata": {
  "kernelspec": {
   "display_name": "Python 3",
   "language": "python",
   "name": "python3"
  },
  "language_info": {
   "codemirror_mode": {
    "name": "ipython",
    "version": 3
   },
   "file_extension": ".py",
   "mimetype": "text/x-python",
   "name": "python",
   "nbconvert_exporter": "python",
   "pygments_lexer": "ipython3",
   "version": "3.6.2"
  }
 },
 "nbformat": 4,
 "nbformat_minor": 2
}
