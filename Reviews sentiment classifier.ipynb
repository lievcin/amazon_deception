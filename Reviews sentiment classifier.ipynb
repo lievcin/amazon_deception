{
 "cells": [
  {
   "cell_type": "code",
   "execution_count": 2,
   "metadata": {},
   "outputs": [],
   "source": [
    "#We'll build a sentiment classifier using the review rating as the sentiment gold standard. \n",
    "#Treating this as a binary classification task, we can consider a 1-2 star review as negative, and a 4-5 star review as positive. \n",
    "#In order to achieve a roughly balanced data set, you may want to remove some of the positive reviews"
   ]
  },
  {
   "cell_type": "code",
   "execution_count": 8,
   "metadata": {},
   "outputs": [],
   "source": [
    "import csv, re\n",
    "from sklearn.svm import LinearSVC\n",
    "from nltk.classify import SklearnClassifier\n",
    "from random import shuffle\n",
    "from sklearn.pipeline import Pipeline\n",
    "import time\n",
    "start_time = time.time()"
   ]
  },
  {
   "cell_type": "code",
   "execution_count": 17,
   "metadata": {},
   "outputs": [],
   "source": [
    "# We import some of the parsing and loading methods we had from previous tasks\n",
    "def parse_label(label):\n",
    "    if label == '__label2__':\n",
    "        return 'real'\n",
    "    else:\n",
    "        return 'fake'    \n",
    "\n",
    "def parse_verification(label):\n",
    "    if label == 'N':\n",
    "        return 0\n",
    "    else:\n",
    "        return 1      \n",
    "\n",
    "def flatten(lst):\n",
    "    for el in lst:\n",
    "        if isinstance(el, list):\n",
    "            yield from el\n",
    "        else:\n",
    "            yield el    \n",
    "\n",
    "# Convert line from input file into an id/text/label tuple\n",
    "def parseReview(reviewLine):\n",
    "    # Should return a triple of an integer, a string containing the review, and a string indicating the label\n",
    "    return (reviewLine[0], \\\n",
    "            reviewLine[8] + ' ' + reviewLine[7], \\\n",
    "            parse_label(reviewLine[1]), \\\n",
    "            reviewLine[2], \\\n",
    "            parse_verification(reviewLine[3]))\n",
    "\n",
    "# load data from a file and append it to the rawData\n",
    "def loadData(path, Text=None):\n",
    "    with open(path) as f:\n",
    "        reader = csv.reader(f, delimiter='\\t')\n",
    "        next(reader, None)  # skip the headers        \n",
    "        for line in reader:\n",
    "            (Id, Text, Label, Rating, Verified) = parseReview(line)\n",
    "            rawData.append((Id, Text, Label, Rating, Verified))\n",
    "            \n",
    "#Loading our set\n",
    "rawData = []          # the filtered data from the dataset file (should be 21000 samples)\n",
    "reviewPath = 'amazon_reviews.txt'\n",
    "loadData(reviewPath) "
   ]
  },
  {
   "cell_type": "code",
   "execution_count": 20,
   "metadata": {},
   "outputs": [
    {
     "name": "stdout",
     "output_type": "stream",
     "text": [
      "REAL vs FAKE F-K Score\n"
     ]
    },
    {
     "data": {
      "image/png": "[encoded data removed]",
      "text/plain": [
       "<matplotlib.figure.Figure at 0x11e3a14e0>"
      ]
     },
     "metadata": {},
     "output_type": "display_data"
    }
   ],
   "source": [
    "#We'll want to put it all in a dataframe, and add some additional features\n",
    "import pandas as pd\n",
    "import nltk\n",
    "from nltk.tokenize import sent_tokenize, word_tokenize\n",
    "from nltk.corpus import stopwords\n",
    "import matplotlib.pyplot as plt\n",
    "import pyphen\n",
    "dic = pyphen.Pyphen(lang='en')\n",
    "stop_words = set(stopwords.words('english'))\n",
    "\n",
    "def averageLen(lst):\n",
    "    lengths = [len(i) for i in lst]\n",
    "    return 0 if len(lengths) == 0 else (float(sum(lengths)) / len(lengths)) \n",
    "\n",
    "\n",
    "names = ['doc_id', 'label', 'rating', 'verified_purchase', \\\n",
    "         'pr_category', 'pr_id', 'pr_title', 'review_title', 'review_text']\n",
    "data = pd.read_csv('amazon_reviews.txt', skiprows=[0], names=names, sep='\\t')\n",
    "data['verified_purchase'] = data['verified_purchase'].apply(lambda x: 1 if x=='Y' else 0)\n",
    "data['label'] = data['label'].apply(lambda x: 'real' if x=='__label2__' else 'fake')\n",
    "data['review_text_length'] = data.apply(lambda row: len(row.review_text), axis=1)\n",
    "data['review_title_length'] = data.apply(lambda row: len(row.review_title), axis=1)\n",
    "data['tokenized_review'] = data.apply(lambda row: re.sub(r\"(\\w)([.,;:!-?'\\\"”\\)])\", r\"\\1 \\2\", row['review_text']), axis=1)\n",
    "data['tokenized_review'] = data.apply(lambda row: re.sub(r\"([.,;:!-?'\\\"“\\(])(\\w)\", r\"\\1 \\2\", row['tokenized_review']), axis=1)\n",
    "data['tokenized_review'] = data.apply(lambda row: re.sub(r\"<[^>]*>\", \"\", row['tokenized_review']), axis=1)\n",
    "data['tokenized_review'] = data.apply(lambda row: nltk.word_tokenize(row['tokenized_review'].lower()), axis=1)\n",
    "data['tokenized_review_string'] = data['tokenized_review'].apply(' '.join)\n",
    "data['tokens'] = data.apply(lambda row: [t for t in row['tokenized_review'] if t.isalpha()], axis=1)\n",
    "data['tokens'] = data.apply(lambda row: [t for t in row['tokens'] if t not in stop_words], axis=1)\n",
    "data['stopwords'] = data.apply(lambda row: [t for t in row['tokenized_review'] if t.isalpha()], axis=1)\n",
    "data['stopwords'] = data.apply(lambda row: [t for t in row['tokenized_review'] if t in stopwords.words('english')], axis=1)\n",
    "data['num_tokens'] = data.apply(lambda row: len(row['tokens']), axis=1)\n",
    "data['avg_len_tokens'] = data.apply(lambda row: averageLen(row['tokens']), axis=1)\n",
    "data['num_stopwords'] = data.apply(lambda row: len(row['stopwords']), axis=1)\n",
    "\n",
    "#Looking for the Flesch-Kincaid Readability measure across our pipulation\n",
    "data['word_count'] = data.apply(lambda row: len(row['tokenized_review']), axis=1)\n",
    "data['sent_count'] = data.apply(lambda row: len(sent_tokenize(row['review_text'])), axis=1)\n",
    "data['syll_count'] = data.apply(lambda row: len(list(flatten([dic.inserted(text).split('-') for text in row['tokenized_review']]))), axis=1)\n",
    "data['flesch_kincaid'] = data.apply(lambda row: 206.835 - 1.015*row['word_count']/row['sent_count'] - 84.6*row['syll_count']/row['word_count'], axis=1)\n",
    "\n",
    "real_data = data[data['label']== 'real'] \n",
    "fake_data = data[data['label']== 'fake'] \n",
    "\n",
    "fig, axes = plt.subplots(1, 2)\n",
    "fig.set_size_inches(20,8)\n",
    "\n",
    "print('REAL vs FAKE F-K Score')\n",
    "plt.title('Real Reviews')\n",
    "real_data.hist('flesch_kincaid', bins=100, ax=axes[0])\n",
    "\n",
    "plt.title('Fake Reviews')\n",
    "fake_data.hist('flesch_kincaid', bins=100, ax=axes[1])\n",
    "\n",
    "plt.show()"
   ]
  },
  {
   "cell_type": "code",
   "execution_count": 23,
   "metadata": {},
   "outputs": [],
   "source": [
    "#Finally on to our classifier, the first thing is to add a column that will serve to capture the sentiment\n",
    "def get_sent(rating):\n",
    "    if rating < 3:\n",
    "        sent = 'negative'\n",
    "    elif rating > 3:\n",
    "        sent = 'positive'\n",
    "    else:\n",
    "        sent = 'mweh'\n",
    "    return sent\n",
    "\n",
    "data['sentiment'] = data.apply(lambda row: get_sent(row['rating']), axis=1)"
   ]
  },
  {
   "cell_type": "code",
   "execution_count": 78,
   "metadata": {},
   "outputs": [],
   "source": [
    "#Now let's make some vectors from our data, these will be used by the classifier\n",
    "from sklearn.feature_extraction.text import CountVectorizer\n",
    "from sklearn.feature_extraction.text import TfidfVectorizer\n",
    "from sklearn.model_selection import train_test_split\n",
    "\n",
    "X_train, X_test, y_train, y_test = train_test_split(data['review_text'], data['sentiment'], test_size=0.33, random_state=1)\n",
    "\n",
    "# Initialize a CountVectorizer and Tfidf objects\n",
    "count_vectorizer = CountVectorizer(stop_words='english')\n",
    "tfidf_vectorizer = TfidfVectorizer(stop_words=\"english\", max_df=0.7)\n",
    "\n",
    "# Transform the training data using only the 'text' column values: count_train \n",
    "count_train = count_vectorizer.fit_transform(X_train)\n",
    "tfidf_train = tfidf_vectorizer.fit_transform(X_train)\n",
    "\n",
    "# Transform the test data using only the 'review_text' column values: count_test \n",
    "count_test = count_vectorizer.transform(X_test)\n",
    "tfidf_test = tfidf_vectorizer.transform(X_test)"
   ]
  },
  {
   "cell_type": "code",
   "execution_count": 79,
   "metadata": {},
   "outputs": [
    {
     "name": "stdout",
     "output_type": "stream",
     "text": [
      "Classifier accuracy: 81.2%\n",
      "Confusion matrix:\n",
      "[[ 330   11  600]\n",
      " [  56    9  523]\n",
      " [  87   26 5288]]\n"
     ]
    }
   ],
   "source": [
    "# Import the necessary modules for our classifier\n",
    "from sklearn import metrics\n",
    "from sklearn.naive_bayes import MultinomialNB\n",
    "\n",
    "nb_classifier = MultinomialNB()\n",
    "nb_classifier.fit(count_train, y_train)\n",
    "pred = nb_classifier.predict(count_test)\n",
    "\n",
    "score = metrics.accuracy_score(y_test, pred)\n",
    "print('Classifier accuracy: ' + str(round(100*score, 2)) + '%')\n",
    "\n",
    "cm = metrics.confusion_matrix(y_test, pred, labels=['negative', 'mweh', 'positive'])\n",
    "print('Confusion matrix:')\n",
    "print(cm)\n"
   ]
  },
  {
   "cell_type": "code",
   "execution_count": 69,
   "metadata": {},
   "outputs": [
    {
     "name": "stdout",
     "output_type": "stream",
     "text": [
      "Classifier accuracy: 77.94%\n",
      "Confusion matrix:\n",
      "[[   0    0  941]\n",
      " [   0    0  588]\n",
      " [   0    0 5401]]\n"
     ]
    }
   ],
   "source": [
    "# What if we used to Tfidf vectors instead?\n",
    "nb_classifier = MultinomialNB()\n",
    "nb_classifier.fit(tfidf_train, y_train)\n",
    "pred = nb_classifier.predict(tfidf_test)\n",
    "\n",
    "score = metrics.accuracy_score(y_test, pred)\n",
    "print('Classifier accuracy: ' + str(round(100*score, 2)) + '%')\n",
    "\n",
    "cm = metrics.confusion_matrix(y_test, pred, labels=['negative', 'mweh', 'positive'])\n",
    "print('Confusion matrix:')\n",
    "print(cm)\n"
   ]
  },
  {
   "cell_type": "code",
   "execution_count": null,
   "metadata": {},
   "outputs": [],
   "source": [
    "# Create the list of alphas: alphas\n",
    "import numpy as np\n",
    "alphas = np.arange(0, 1.5, .1)\n",
    "\n",
    "def train_and_predict(alpha):\n",
    "    nb_classifier = MultinomialNB(alpha=alpha)\n",
    "    nb_classifier.fit(tfidf_train, y_train)\n",
    "    pred = nb_classifier.predict(tfidf_test)\n",
    "    score = metrics.accuracy_score(y_test, pred)\n",
    "    return score\n",
    "\n",
    "for alpha in alphas:\n",
    "    print('Alpha: ' + str(alpha) + ' score: ' + str(round(train_and_predict(alpha), 3)))"
   ]
  },
  {
   "cell_type": "code",
   "execution_count": null,
   "metadata": {
    "scrolled": false
   },
   "outputs": [],
   "source": [
    "alphas = np.arange(0, 1.5, .1)\n",
    "\n",
    "def train_and_predict(alpha):\n",
    "    nb_classifier = MultinomialNB(alpha=alpha)\n",
    "    nb_classifier.fit(count_train, y_train)\n",
    "    pred = nb_classifier.predict(count_test)\n",
    "    score = metrics.accuracy_score(y_test, pred)\n",
    "    return score\n",
    "\n",
    "for alpha in alphas:\n",
    "    print('Alpha: ' + str(alpha) + ' score: ' + str(round(train_and_predict(alpha), 3)))"
   ]
  },
  {
   "cell_type": "code",
   "execution_count": 80,
   "metadata": {},
   "outputs": [
    {
     "name": "stdout",
     "output_type": "stream",
     "text": [
      "Unigrams only:\n",
      "Classifier accuracy: 81.2%\n",
      "Confusion matrix:\n",
      "[[ 330   11  600]\n",
      " [  56    9  523]\n",
      " [  87   26 5288]]\n",
      "Ngrams:\n",
      "Classifier accuracy: 84.14%\n",
      "Confusion matrix:\n",
      "[[ 531   45  365]\n",
      " [ 111   42  435]\n",
      " [ 105   38 5258]]\n"
     ]
    }
   ],
   "source": [
    "#But we can also play with vectorizing ngrams instead of just unigrams\n",
    "\n",
    "\n",
    "print('Unigrams only:')\n",
    "count_vectorizer = CountVectorizer(stop_words='english')\n",
    "count_train = count_vectorizer.fit_transform(X_train)\n",
    "count_test = count_vectorizer.transform(X_test)\n",
    "nb_classifier = MultinomialNB()\n",
    "nb_classifier.fit(count_train, y_train)\n",
    "pred = nb_classifier.predict(count_test)\n",
    "score = metrics.accuracy_score(y_test, pred)\n",
    "print('Classifier accuracy: ' + str(round(100*score, 2)) + '%')\n",
    "cm = metrics.confusion_matrix(y_test, pred, labels=['negative', 'mweh', 'positive'])\n",
    "print('Confusion matrix:')\n",
    "print(cm)\n",
    "\n",
    "print('Ngrams:')\n",
    "count_vectorizer = CountVectorizer(ngram_range=(1, 7), analyzer='char')\n",
    "count_train = count_vectorizer.fit_transform(X_train)\n",
    "count_test = count_vectorizer.transform(X_test)\n",
    "nb_classifier = MultinomialNB(alpha=0.2)\n",
    "nb_classifier.fit(count_train, y_train)\n",
    "pred = nb_classifier.predict(count_test)\n",
    "score = metrics.accuracy_score(y_test, pred)\n",
    "print('Classifier accuracy: ' + str(round(100*score, 2)) + '%')\n",
    "cm = metrics.confusion_matrix(y_test, pred, labels=['negative', 'mweh', 'positive'])\n",
    "print('Confusion matrix:')\n",
    "print(cm)"
   ]
  },
  {
   "cell_type": "code",
   "execution_count": 99,
   "metadata": {},
   "outputs": [],
   "source": [
    "# count_vectorizer = CountVectorizer(stop_words='english')\n",
    "# count_train = count_vectorizer.fit_transform(X_train)\n",
    "# count_train.shape"
   ]
  },
  {
   "cell_type": "code",
   "execution_count": 98,
   "metadata": {},
   "outputs": [],
   "source": [
    "# df.apply(LabelEncoder().fit_transform)"
   ]
  },
  {
   "cell_type": "code",
   "execution_count": null,
   "metadata": {},
   "outputs": [],
   "source": []
  }
 ],
 "metadata": {
  "kernelspec": {
   "display_name": "Python 3",
   "language": "python",
   "name": "python3"
  },
  "language_info": {
   "codemirror_mode": {
    "name": "ipython",
    "version": 3
   },
   "file_extension": ".py",
   "mimetype": "text/x-python",
   "name": "python",
   "nbconvert_exporter": "python",
   "pygments_lexer": "ipython3",
   "version": "3.6.2"
  }
 },
 "nbformat": 4,
 "nbformat_minor": 2
}
